{
 "cells": [
  {
   "cell_type": "code",
   "execution_count": 28,
   "metadata": {},
   "outputs": [],
   "source": [
    "import json\n",
    "import re\n",
    "import numpy as np\n",
    "import pandas as pd\n",
    "import matplotlib.pyplot as plt\n",
    "import urllib3\n",
    "urllib3.disable_warnings()\n",
    "import warnings\n",
    "warnings.filterwarnings('ignore')\n",
    "\n",
    "API_KEY = 'RIWOMQAIJJ40V284'\n",
    "\n",
    "plt.style.use('seaborn')"
   ]
  },
  {
   "cell_type": "code",
   "execution_count": 2,
   "metadata": {},
   "outputs": [],
   "source": [
    "sym = 'SBER.MOS'\n",
    "http = urllib3.PoolManager()\n",
    "r = http.request('GET', 'https://www.alphavantage.co/query?function=TIME_SERIES_INTRADAY&symbol=' + sym +\n",
    "                 '&interval=60min&outputsize=full&apikey=' + API_KEY)"
   ]
  },
  {
   "cell_type": "code",
   "execution_count": 4,
   "metadata": {},
   "outputs": [],
   "source": [
    "data = pd.DataFrame.from_dict(json.loads(r.data)['Time Series (60min)'], orient='index', dtype=float)\n",
    "data.rename(lambda x: x.split('. ')[1], axis='columns', inplace=True)"
   ]
  },
  {
   "cell_type": "code",
   "execution_count": 22,
   "metadata": {},
   "outputs": [],
   "source": [
    "data['d'] = (data.close - data.open) / data.open\n",
    "data['sign'] = np.sign(data.close - data.open)\n",
    "\n",
    "data.sign = data.sign.apply(lambda x: 0 if x < 0 else 1)"
   ]
  },
  {
   "cell_type": "code",
   "execution_count": 113,
   "metadata": {},
   "outputs": [
    {
     "data": {
      "text/plain": [
       "'100010001001001010111000111011100000110101000110110000101001100100111101110000000101001011111010100101000000100000101001110011101001011100001101001100111010100011111111110100011011111001011001011011111011100110010011000111001011111011100100100100111111011101111001011011111011111101010100111100111111001001001110100010011110111011001110001110001000010111110011010110010101011001111111100111010011101111101100110101010001010011001011101010100010110111100001010111010100010110100001010100001111000001011100010011000100001010101000011001011110000000111111000001001000010101011011001000111011011011111111'"
      ]
     },
     "execution_count": 113,
     "metadata": {},
     "output_type": "execute_result"
    }
   ],
   "source": [
    "line = ''.join(map(str, data.sign.values))\n",
    "line"
   ]
  },
  {
   "cell_type": "code",
   "execution_count": 111,
   "metadata": {},
   "outputs": [],
   "source": [
    "g = np.random.randint(0, 2, 1000000)\n",
    "line = ''.join(map(str, g))"
   ]
  },
  {
   "cell_type": "code",
   "execution_count": 94,
   "metadata": {},
   "outputs": [],
   "source": [
    "def fn(line, p1, p2):\n",
    "    res = [line[i: i + len(p1)] for i in range(len(line) - len(p1) + 1)]\n",
    "    return res.count(p1), res.count(p2)"
   ]
  },
  {
   "cell_type": "code",
   "execution_count": 117,
   "metadata": {},
   "outputs": [
    {
     "data": {
      "text/plain": [
       "(28, 32)"
      ]
     },
     "execution_count": 117,
     "metadata": {},
     "output_type": "execute_result"
    }
   ],
   "source": [
    "fn(line, '0000', '0001')"
   ]
  },
  {
   "cell_type": "code",
   "execution_count": 143,
   "metadata": {},
   "outputs": [
    {
     "name": "stdout",
     "output_type": "stream",
     "text": [
      "100.68283283281737\n"
     ]
    }
   ],
   "source": [
    "stack = 0\n",
    "cash = 100\n",
    "for i in range(data.shape[0]):\n",
    "    if stack == 3:\n",
    "        stack = 0\n",
    "        cash *= 1 + data.d[i]\n",
    "    stack = stack + 1 if data.sign[i] == 0 else 0\n",
    "#     print(data.sign[i], stack)\n",
    "print(cash)        "
   ]
  },
  {
   "cell_type": "code",
   "execution_count": 123,
   "metadata": {},
   "outputs": [
    {
     "data": {
      "text/html": [
       "<div>\n",
       "<style scoped>\n",
       "    .dataframe tbody tr th:only-of-type {\n",
       "        vertical-align: middle;\n",
       "    }\n",
       "\n",
       "    .dataframe tbody tr th {\n",
       "        vertical-align: top;\n",
       "    }\n",
       "\n",
       "    .dataframe thead th {\n",
       "        text-align: right;\n",
       "    }\n",
       "</style>\n",
       "<table border=\"1\" class=\"dataframe\">\n",
       "  <thead>\n",
       "    <tr style=\"text-align: right;\">\n",
       "      <th></th>\n",
       "      <th>open</th>\n",
       "      <th>high</th>\n",
       "      <th>low</th>\n",
       "      <th>close</th>\n",
       "      <th>volume</th>\n",
       "      <th>d</th>\n",
       "      <th>sign</th>\n",
       "    </tr>\n",
       "  </thead>\n",
       "  <tbody>\n",
       "    <tr>\n",
       "      <th>2019-09-13 02:30:00</th>\n",
       "      <td>234.1200</td>\n",
       "      <td>235.2100</td>\n",
       "      <td>233.8800</td>\n",
       "      <td>234.2700</td>\n",
       "      <td>2281584.0</td>\n",
       "      <td>0.000641</td>\n",
       "      <td>1</td>\n",
       "    </tr>\n",
       "    <tr>\n",
       "      <th>2019-09-13 03:30:00</th>\n",
       "      <td>234.2862</td>\n",
       "      <td>235.2177</td>\n",
       "      <td>234.1967</td>\n",
       "      <td>234.2462</td>\n",
       "      <td>3916214.0</td>\n",
       "      <td>-0.000171</td>\n",
       "      <td>0</td>\n",
       "    </tr>\n",
       "    <tr>\n",
       "      <th>2019-09-13 04:30:00</th>\n",
       "      <td>234.2846</td>\n",
       "      <td>234.6745</td>\n",
       "      <td>233.3835</td>\n",
       "      <td>233.4746</td>\n",
       "      <td>5996555.0</td>\n",
       "      <td>-0.003457</td>\n",
       "      <td>0</td>\n",
       "    </tr>\n",
       "    <tr>\n",
       "      <th>2019-09-13 05:30:00</th>\n",
       "      <td>233.4800</td>\n",
       "      <td>234.1400</td>\n",
       "      <td>233.2800</td>\n",
       "      <td>233.3900</td>\n",
       "      <td>2594760.0</td>\n",
       "      <td>-0.000385</td>\n",
       "      <td>0</td>\n",
       "    </tr>\n",
       "    <tr>\n",
       "      <th>2019-09-13 06:30:00</th>\n",
       "      <td>233.3800</td>\n",
       "      <td>234.2000</td>\n",
       "      <td>233.2800</td>\n",
       "      <td>234.0700</td>\n",
       "      <td>1989600.0</td>\n",
       "      <td>0.002957</td>\n",
       "      <td>1</td>\n",
       "    </tr>\n",
       "  </tbody>\n",
       "</table>\n",
       "</div>"
      ],
      "text/plain": [
       "                         open      high       low     close     volume  \\\n",
       "2019-09-13 02:30:00  234.1200  235.2100  233.8800  234.2700  2281584.0   \n",
       "2019-09-13 03:30:00  234.2862  235.2177  234.1967  234.2462  3916214.0   \n",
       "2019-09-13 04:30:00  234.2846  234.6745  233.3835  233.4746  5996555.0   \n",
       "2019-09-13 05:30:00  233.4800  234.1400  233.2800  233.3900  2594760.0   \n",
       "2019-09-13 06:30:00  233.3800  234.2000  233.2800  234.0700  1989600.0   \n",
       "\n",
       "                            d  sign  \n",
       "2019-09-13 02:30:00  0.000641     1  \n",
       "2019-09-13 03:30:00 -0.000171     0  \n",
       "2019-09-13 04:30:00 -0.003457     0  \n",
       "2019-09-13 05:30:00 -0.000385     0  \n",
       "2019-09-13 06:30:00  0.002957     1  "
      ]
     },
     "execution_count": 123,
     "metadata": {},
     "output_type": "execute_result"
    }
   ],
   "source": [
    "data.head()"
   ]
  },
  {
   "cell_type": "code",
   "execution_count": null,
   "metadata": {},
   "outputs": [],
   "source": []
  }
 ],
 "metadata": {
  "kernelspec": {
   "display_name": "Python 3",
   "language": "python",
   "name": "python3"
  },
  "language_info": {
   "codemirror_mode": {
    "name": "ipython",
    "version": 3
   },
   "file_extension": ".py",
   "mimetype": "text/x-python",
   "name": "python",
   "nbconvert_exporter": "python",
   "pygments_lexer": "ipython3",
   "version": "3.7.1"
  }
 },
 "nbformat": 4,
 "nbformat_minor": 2
}
