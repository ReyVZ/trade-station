{
 "cells": [
  {
   "cell_type": "code",
   "execution_count": 1,
   "metadata": {},
   "outputs": [],
   "source": [
    "import json\n",
    "import numpy as np\n",
    "import pandas as pd\n",
    "import matplotlib.pyplot as plt\n",
    "import urllib3\n",
    "urllib3.disable_warnings()\n",
    "import warnings\n",
    "warnings.filterwarnings('ignore')\n",
    "\n",
    "API_KEY = 'RIWOMQAIJJ40V284'\n",
    "\n",
    "plt.style.use('seaborn')"
   ]
  },
  {
   "cell_type": "code",
   "execution_count": 2,
   "metadata": {},
   "outputs": [],
   "source": [
    "def draw_candle(candle):\n",
    "    x = candle.index[0]\n",
    "    o = candle.values[0][0]\n",
    "    h = candle.values[0][1]\n",
    "    l = candle.values[0][2]\n",
    "    c = candle.values[0][3]\n",
    "    color = 'green' if o <= c else 'red'\n",
    "    plt.plot([x, x], [h, l], color=color, linewidth=1)\n",
    "    plt.plot([x, x], [o, c], color=color, linewidth=4)\n",
    "    plt.xticks(rotation='vertical')\n",
    "\n",
    "def draw_hist(candle):\n",
    "    x = candle.index[0]\n",
    "    h = candle.values[0][9]\n",
    "    color = '#88ff88' if h >= 0 else '#ff8888'\n",
    "    plt.plot([x, x], [0, h], color=color, linewidth=4)\n",
    "    plt.xticks(rotation='vertical')"
   ]
  },
  {
   "cell_type": "code",
   "execution_count": 3,
   "metadata": {},
   "outputs": [
    {
     "data": {
      "text/html": [
       "<div>\n",
       "<style scoped>\n",
       "    .dataframe tbody tr th:only-of-type {\n",
       "        vertical-align: middle;\n",
       "    }\n",
       "\n",
       "    .dataframe tbody tr th {\n",
       "        vertical-align: top;\n",
       "    }\n",
       "\n",
       "    .dataframe thead th {\n",
       "        text-align: right;\n",
       "    }\n",
       "</style>\n",
       "<table border=\"1\" class=\"dataframe\">\n",
       "  <thead>\n",
       "    <tr style=\"text-align: right;\">\n",
       "      <th></th>\n",
       "      <th>1. symbol</th>\n",
       "      <th>2. name</th>\n",
       "      <th>3. type</th>\n",
       "      <th>4. region</th>\n",
       "      <th>5. marketOpen</th>\n",
       "      <th>6. marketClose</th>\n",
       "      <th>7. timezone</th>\n",
       "      <th>8. currency</th>\n",
       "      <th>9. matchScore</th>\n",
       "    </tr>\n",
       "  </thead>\n",
       "  <tbody>\n",
       "    <tr>\n",
       "      <th>0</th>\n",
       "      <td>SBRCY</td>\n",
       "      <td>Sberbank of Russia</td>\n",
       "      <td>Equity</td>\n",
       "      <td>United States</td>\n",
       "      <td>09:30</td>\n",
       "      <td>16:00</td>\n",
       "      <td>UTC-05</td>\n",
       "      <td>USD</td>\n",
       "      <td>0.7273</td>\n",
       "    </tr>\n",
       "    <tr>\n",
       "      <th>1</th>\n",
       "      <td>SBER.MOS</td>\n",
       "      <td>Sberbank of Russia</td>\n",
       "      <td>Equity</td>\n",
       "      <td>Moscow</td>\n",
       "      <td>10:00</td>\n",
       "      <td>18:45</td>\n",
       "      <td>UTC+03</td>\n",
       "      <td>RUB</td>\n",
       "      <td>0.7273</td>\n",
       "    </tr>\n",
       "    <tr>\n",
       "      <th>2</th>\n",
       "      <td>SBER.ILN</td>\n",
       "      <td>SBERBANK OF RUSSIA ADR (EACH RE</td>\n",
       "      <td>Equity</td>\n",
       "      <td>United Kingdom</td>\n",
       "      <td>08:00</td>\n",
       "      <td>16:30</td>\n",
       "      <td>UTC+01</td>\n",
       "      <td>GBP</td>\n",
       "      <td>0.6667</td>\n",
       "    </tr>\n",
       "    <tr>\n",
       "      <th>3</th>\n",
       "      <td>SBNC.FRK</td>\n",
       "      <td>Sberbank of Russia</td>\n",
       "      <td>Equity</td>\n",
       "      <td>Frankfurt</td>\n",
       "      <td>08:00</td>\n",
       "      <td>20:00</td>\n",
       "      <td>UTC+02</td>\n",
       "      <td>EUR</td>\n",
       "      <td>0.6667</td>\n",
       "    </tr>\n",
       "    <tr>\n",
       "      <th>4</th>\n",
       "      <td>SBERP.MOS</td>\n",
       "      <td>Sberbank of Russia</td>\n",
       "      <td>Equity</td>\n",
       "      <td>Moscow</td>\n",
       "      <td>10:00</td>\n",
       "      <td>18:45</td>\n",
       "      <td>UTC+03</td>\n",
       "      <td>RUB</td>\n",
       "      <td>0.5455</td>\n",
       "    </tr>\n",
       "    <tr>\n",
       "      <th>5</th>\n",
       "      <td>SBNC.STG</td>\n",
       "      <td>Sberbank of Russia PJSC Reg.Shs</td>\n",
       "      <td>Equity</td>\n",
       "      <td>Stuttgart</td>\n",
       "      <td>08:00</td>\n",
       "      <td>20:00</td>\n",
       "      <td>UTC+02</td>\n",
       "      <td>EUR</td>\n",
       "      <td>0.4000</td>\n",
       "    </tr>\n",
       "    <tr>\n",
       "      <th>6</th>\n",
       "      <td>SBNC.BER</td>\n",
       "      <td>SBERBANK ADR REGS/4 RL3</td>\n",
       "      <td>Equity</td>\n",
       "      <td>Berlin</td>\n",
       "      <td>08:00</td>\n",
       "      <td>20:00</td>\n",
       "      <td>UTC+02</td>\n",
       "      <td>EUR</td>\n",
       "      <td>0.3636</td>\n",
       "    </tr>\n",
       "    <tr>\n",
       "      <th>7</th>\n",
       "      <td>RU000A0ZZ5R2.MOS</td>\n",
       "      <td>PIF SberbankArendBiznes3</td>\n",
       "      <td>Mutual Fund</td>\n",
       "      <td>Moscow</td>\n",
       "      <td>10:00</td>\n",
       "      <td>18:45</td>\n",
       "      <td>UTC+03</td>\n",
       "      <td>RUB</td>\n",
       "      <td>0.2857</td>\n",
       "    </tr>\n",
       "  </tbody>\n",
       "</table>\n",
       "</div>"
      ],
      "text/plain": [
       "          1. symbol                          2. name      3. type  \\\n",
       "0             SBRCY               Sberbank of Russia       Equity   \n",
       "1          SBER.MOS               Sberbank of Russia       Equity   \n",
       "2          SBER.ILN  SBERBANK OF RUSSIA ADR (EACH RE       Equity   \n",
       "3          SBNC.FRK               Sberbank of Russia       Equity   \n",
       "4         SBERP.MOS               Sberbank of Russia       Equity   \n",
       "5          SBNC.STG  Sberbank of Russia PJSC Reg.Shs       Equity   \n",
       "6          SBNC.BER          SBERBANK ADR REGS/4 RL3       Equity   \n",
       "7  RU000A0ZZ5R2.MOS         PIF SberbankArendBiznes3  Mutual Fund   \n",
       "\n",
       "        4. region 5. marketOpen 6. marketClose 7. timezone 8. currency  \\\n",
       "0   United States         09:30          16:00      UTC-05         USD   \n",
       "1          Moscow         10:00          18:45      UTC+03         RUB   \n",
       "2  United Kingdom         08:00          16:30      UTC+01         GBP   \n",
       "3       Frankfurt         08:00          20:00      UTC+02         EUR   \n",
       "4          Moscow         10:00          18:45      UTC+03         RUB   \n",
       "5       Stuttgart         08:00          20:00      UTC+02         EUR   \n",
       "6          Berlin         08:00          20:00      UTC+02         EUR   \n",
       "7          Moscow         10:00          18:45      UTC+03         RUB   \n",
       "\n",
       "  9. matchScore  \n",
       "0        0.7273  \n",
       "1        0.7273  \n",
       "2        0.6667  \n",
       "3        0.6667  \n",
       "4        0.5455  \n",
       "5        0.4000  \n",
       "6        0.3636  \n",
       "7        0.2857  "
      ]
     },
     "execution_count": 3,
     "metadata": {},
     "output_type": "execute_result"
    }
   ],
   "source": [
    "sym = 'SBER'\n",
    "http = urllib3.PoolManager()\n",
    "r = http.request('GET',\n",
    "                 'https://www.alphavantage.co/query?function=SYMBOL_SEARCH&keywords=' + sym + '&apikey=' + API_KEY)\n",
    "df = pd.DataFrame.from_dict(json.loads(r.data)['bestMatches'])\n",
    "df"
   ]
  },
  {
   "cell_type": "code",
   "execution_count": 52,
   "metadata": {},
   "outputs": [],
   "source": [
    "sym = 'SBER.MOS'\n",
    "http = urllib3.PoolManager()\n",
    "r = http.request('GET', 'https://www.alphavantage.co/query?function=TIME_SERIES_DAILY&symbol=' + sym +\n",
    "                 '&outputsize=full&apikey=' + API_KEY)"
   ]
  },
  {
   "cell_type": "code",
   "execution_count": 53,
   "metadata": {},
   "outputs": [],
   "source": [
    "data = pd.DataFrame.from_dict(json.loads(r.data)['Time Series (Daily)'], orient='index', dtype=float)\n",
    "data.rename(lambda x: x.split('. ')[1], axis='columns', inplace=True)\n",
    "data.drop(data[data.open==0].index, axis=0, inplace=True)"
   ]
  },
  {
   "cell_type": "code",
   "execution_count": 54,
   "metadata": {},
   "outputs": [],
   "source": [
    "data['fast'] = data.close.ewm(span=12, adjust=False).mean()\n",
    "data['slow'] = data.close.ewm(span=26, adjust=False).mean()\n",
    "data['macd'] = data.fast - data.slow\n",
    "data['signal'] = data.macd.ewm(span=9, adjust=False).mean()\n",
    "data['hist'] = data.macd - data.signal"
   ]
  },
  {
   "cell_type": "code",
   "execution_count": 55,
   "metadata": {},
   "outputs": [
    {
     "data": {
      "text/html": [
       "<div>\n",
       "<style scoped>\n",
       "    .dataframe tbody tr th:only-of-type {\n",
       "        vertical-align: middle;\n",
       "    }\n",
       "\n",
       "    .dataframe tbody tr th {\n",
       "        vertical-align: top;\n",
       "    }\n",
       "\n",
       "    .dataframe thead th {\n",
       "        text-align: right;\n",
       "    }\n",
       "</style>\n",
       "<table border=\"1\" class=\"dataframe\">\n",
       "  <thead>\n",
       "    <tr style=\"text-align: right;\">\n",
       "      <th></th>\n",
       "      <th>open</th>\n",
       "      <th>high</th>\n",
       "      <th>low</th>\n",
       "      <th>close</th>\n",
       "      <th>volume</th>\n",
       "      <th>fast</th>\n",
       "      <th>slow</th>\n",
       "      <th>macd</th>\n",
       "      <th>signal</th>\n",
       "      <th>hist</th>\n",
       "    </tr>\n",
       "  </thead>\n",
       "  <tbody>\n",
       "    <tr>\n",
       "      <th>2011-11-21</th>\n",
       "      <td>79.00</td>\n",
       "      <td>79.37</td>\n",
       "      <td>75.85</td>\n",
       "      <td>75.99</td>\n",
       "      <td>293803296.0</td>\n",
       "      <td>75.990000</td>\n",
       "      <td>75.990000</td>\n",
       "      <td>0.000000</td>\n",
       "      <td>0.000000</td>\n",
       "      <td>0.000000</td>\n",
       "    </tr>\n",
       "    <tr>\n",
       "      <th>2011-11-22</th>\n",
       "      <td>76.94</td>\n",
       "      <td>77.76</td>\n",
       "      <td>75.10</td>\n",
       "      <td>76.40</td>\n",
       "      <td>272599360.0</td>\n",
       "      <td>76.053077</td>\n",
       "      <td>76.020370</td>\n",
       "      <td>0.032707</td>\n",
       "      <td>0.006541</td>\n",
       "      <td>0.026165</td>\n",
       "    </tr>\n",
       "    <tr>\n",
       "      <th>2011-11-23</th>\n",
       "      <td>75.00</td>\n",
       "      <td>77.44</td>\n",
       "      <td>74.42</td>\n",
       "      <td>76.80</td>\n",
       "      <td>335403040.0</td>\n",
       "      <td>76.167988</td>\n",
       "      <td>76.078121</td>\n",
       "      <td>0.089867</td>\n",
       "      <td>0.023207</td>\n",
       "      <td>0.066661</td>\n",
       "    </tr>\n",
       "    <tr>\n",
       "      <th>2011-11-24</th>\n",
       "      <td>76.73</td>\n",
       "      <td>77.29</td>\n",
       "      <td>73.82</td>\n",
       "      <td>73.82</td>\n",
       "      <td>177337888.0</td>\n",
       "      <td>75.806759</td>\n",
       "      <td>75.910853</td>\n",
       "      <td>-0.104093</td>\n",
       "      <td>-0.002253</td>\n",
       "      <td>-0.101840</td>\n",
       "    </tr>\n",
       "    <tr>\n",
       "      <th>2011-11-25</th>\n",
       "      <td>75.40</td>\n",
       "      <td>78.75</td>\n",
       "      <td>73.75</td>\n",
       "      <td>78.27</td>\n",
       "      <td>319155936.0</td>\n",
       "      <td>76.185719</td>\n",
       "      <td>76.085604</td>\n",
       "      <td>0.100115</td>\n",
       "      <td>0.018220</td>\n",
       "      <td>0.081895</td>\n",
       "    </tr>\n",
       "  </tbody>\n",
       "</table>\n",
       "</div>"
      ],
      "text/plain": [
       "             open   high    low  close       volume       fast       slow  \\\n",
       "2011-11-21  79.00  79.37  75.85  75.99  293803296.0  75.990000  75.990000   \n",
       "2011-11-22  76.94  77.76  75.10  76.40  272599360.0  76.053077  76.020370   \n",
       "2011-11-23  75.00  77.44  74.42  76.80  335403040.0  76.167988  76.078121   \n",
       "2011-11-24  76.73  77.29  73.82  73.82  177337888.0  75.806759  75.910853   \n",
       "2011-11-25  75.40  78.75  73.75  78.27  319155936.0  76.185719  76.085604   \n",
       "\n",
       "                macd    signal      hist  \n",
       "2011-11-21  0.000000  0.000000  0.000000  \n",
       "2011-11-22  0.032707  0.006541  0.026165  \n",
       "2011-11-23  0.089867  0.023207  0.066661  \n",
       "2011-11-24 -0.104093 -0.002253 -0.101840  \n",
       "2011-11-25  0.100115  0.018220  0.081895  "
      ]
     },
     "execution_count": 55,
     "metadata": {},
     "output_type": "execute_result"
    }
   ],
   "source": [
    "data.head()"
   ]
  },
  {
   "cell_type": "code",
   "execution_count": 56,
   "metadata": {
    "scrolled": false
   },
   "outputs": [
    {
     "data": {
      "text/plain": [
       "[<matplotlib.lines.Line2D at 0x7f88e37de6d8>]"
      ]
     },
     "execution_count": 56,
     "metadata": {},
     "output_type": "execute_result"
    },
    {
     "data": {
      "image/png": "[encoded data removed]",
      "text/plain": [
       "<Figure size 1080x504 with 2 Axes>"
      ]
     },
     "metadata": {
      "needs_background": "light"
     },
     "output_type": "display_data"
    }
   ],
   "source": [
    "start, end = data.shape[0]-75, data.shape[0]\n",
    "\n",
    "fig = plt.figure(figsize=(15, 7))\n",
    "\n",
    "plt.subplot(2, 1, 1)\n",
    "for i in range(start, end):\n",
    "    draw_candle(data[i:i+1])\n",
    "\n",
    "plt.subplot(2, 1, 2)\n",
    "for i in range(start, end):\n",
    "    draw_hist(data[i:i+1])\n",
    "plt.plot(data.index[start:end], data.macd[start:end], color='#6666ff')\n",
    "plt.plot(data.index[start:end], data.signal[start:end], color='#ff6666') \n",
    "plt.plot(data.index[start:end], np.zeros(end-start), color='#666666')\n"
   ]
  },
  {
   "cell_type": "code",
   "execution_count": 57,
   "metadata": {},
   "outputs": [],
   "source": [
    "ingame = False\n",
    "deals = []\n",
    "enter = 0\n",
    "exit = 0\n",
    "for i in range(847, data.shape[0]):\n",
    "    if data['hist'][i - 1] > 0 and data['hist'][i - 2] <= 0 and not ingame:\n",
    "        enter = data['open'][i]\n",
    "        ingame = True\n",
    "    if data['hist'][i - 1] < 0 and ingame:\n",
    "        exit = data['open'][i]\n",
    "        deals.append([enter, exit])\n",
    "        ingame = False"
   ]
  },
  {
   "cell_type": "code",
   "execution_count": 58,
   "metadata": {},
   "outputs": [],
   "source": [
    "deals = pd.DataFrame(deals, columns=['enter', 'exit'])"
   ]
  },
  {
   "cell_type": "code",
   "execution_count": 59,
   "metadata": {},
   "outputs": [],
   "source": [
    "deals['profit'] = (deals.exit - deals.enter) / deals.enter\n",
    "deals['total'] = 1 + (deals.exit - deals.enter) / deals.enter"
   ]
  },
  {
   "cell_type": "code",
   "execution_count": 61,
   "metadata": {},
   "outputs": [
    {
     "name": "stdout",
     "output_type": "stream",
     "text": [
      "Since 2015-04-16\n",
      "Start cash: 10000\n",
      "Without capitalization:   18381.14\n",
      "With capitalization:       21510.9\n"
     ]
    }
   ],
   "source": [
    "x = 10000\n",
    "print('Since {}\\nStart cash: {}'.format(data.index[847], x))\n",
    "print('Without capitalization: {:>10}'.format(round((deals.profit.values * x).sum() + x, 2)))\n",
    "print('With capitalization: {:>13}'.format(round(deals.total.values.prod() * x, 2)))"
   ]
  },
  {
   "cell_type": "code",
   "execution_count": 62,
   "metadata": {},
   "outputs": [
    {
     "name": "stdout",
     "output_type": "stream",
     "text": [
      " 0.94  9414.81\n",
      " 0.94  8821.21\n",
      " 0.97  8566.97\n",
      " 1.00  8524.31\n",
      " 1.15  9824.02\n",
      " 0.99  9772.75\n",
      " 1.01  9841.21\n",
      " 1.12 11015.75\n",
      " 0.97 10654.67\n",
      " 1.04 11035.36\n",
      " 0.96 10639.62\n",
      " 0.97 10329.44\n",
      " 0.99 10233.18\n",
      " 1.04 10633.36\n",
      " 0.98 10399.22\n",
      " 1.11 11541.09\n",
      " 0.99 11409.68\n",
      " 0.96 10959.84\n",
      " 1.04 11348.33\n",
      " 1.18 13424.71\n",
      " 1.04 13951.00\n",
      " 1.11 15444.66\n",
      " 1.04 16100.23\n",
      " 1.03 16504.24\n",
      " 1.01 16681.17\n",
      " 1.00 16611.01\n",
      " 0.99 16426.80\n",
      " 0.94 15454.73\n",
      " 1.01 15621.81\n",
      " 1.00 15620.99\n",
      " 0.99 15485.29\n",
      " 1.10 16967.97\n",
      " 1.13 19101.22\n",
      " 0.99 18832.42\n",
      " 1.01 18990.11\n",
      " 1.03 19533.42\n",
      " 1.04 20223.01\n",
      " 0.98 19904.70\n",
      " 1.08 21510.90\n"
     ]
    }
   ],
   "source": [
    "x = 10000\n",
    "for d in deals.total:\n",
    "    x *= d\n",
    "    print('{:>5.2f} {:>8.2f}'.format(d, x))"
   ]
  },
  {
   "cell_type": "code",
   "execution_count": 63,
   "metadata": {},
   "outputs": [
    {
     "data": {
      "text/plain": [
       "0.3587962384245113"
      ]
     },
     "execution_count": 63,
     "metadata": {},
     "output_type": "execute_result"
    }
   ],
   "source": [
    "deals.profit.mean() / deals.profit.std()"
   ]
  },
  {
   "cell_type": "code",
   "execution_count": null,
   "metadata": {},
   "outputs": [],
   "source": []
  }
 ],
 "metadata": {
  "kernelspec": {
   "display_name": "Python 3",
   "language": "python",
   "name": "python3"
  },
  "language_info": {
   "codemirror_mode": {
    "name": "ipython",
    "version": 3
   },
   "file_extension": ".py",
   "mimetype": "text/x-python",
   "name": "python",
   "nbconvert_exporter": "python",
   "pygments_lexer": "ipython3",
   "version": "3.7.1"
  }
 },
 "nbformat": 4,
 "nbformat_minor": 2
}
