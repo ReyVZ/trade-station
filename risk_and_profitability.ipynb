{
 "cells": [
  {
   "cell_type": "code",
   "execution_count": 1,
   "metadata": {},
   "outputs": [],
   "source": [
    "import json\n",
    "import numpy as np\n",
    "import pandas as pd\n",
    "import scipy.stats as stats\n",
    "import matplotlib.pyplot as plt\n",
    "import urllib3\n",
    "urllib3.disable_warnings()\n",
    "import warnings\n",
    "warnings.filterwarnings('ignore')\n",
    "\n",
    "API_KEY = 'RIWOMQAIJJ40V284'\n",
    "\n",
    "plt.style.use('seaborn')"
   ]
  },
  {
   "cell_type": "code",
   "execution_count": 2,
   "metadata": {},
   "outputs": [],
   "source": [
    "def draw_candle(candle):\n",
    "    x = candle.index[0]\n",
    "    o = candle.values[0][0]\n",
    "    h = candle.values[0][1]\n",
    "    l = candle.values[0][2]\n",
    "    c = candle.values[0][3]\n",
    "    color = 'green' if o <= c else 'red'\n",
    "    plt.plot([x, x], [h, l], color=color, linewidth=1)\n",
    "    plt.plot([x, x], [o, c], color=color, linewidth=4)\n",
    "    plt.xticks(rotation='vertical')"
   ]
  },
  {
   "cell_type": "code",
   "execution_count": 3,
   "metadata": {},
   "outputs": [
    {
     "data": {
      "text/html": [
       "<div>\n",
       "<style scoped>\n",
       "    .dataframe tbody tr th:only-of-type {\n",
       "        vertical-align: middle;\n",
       "    }\n",
       "\n",
       "    .dataframe tbody tr th {\n",
       "        vertical-align: top;\n",
       "    }\n",
       "\n",
       "    .dataframe thead th {\n",
       "        text-align: right;\n",
       "    }\n",
       "</style>\n",
       "<table border=\"1\" class=\"dataframe\">\n",
       "  <thead>\n",
       "    <tr style=\"text-align: right;\">\n",
       "      <th></th>\n",
       "      <th>1. symbol</th>\n",
       "      <th>2. name</th>\n",
       "      <th>3. type</th>\n",
       "      <th>4. region</th>\n",
       "      <th>5. marketOpen</th>\n",
       "      <th>6. marketClose</th>\n",
       "      <th>7. timezone</th>\n",
       "      <th>8. currency</th>\n",
       "      <th>9. matchScore</th>\n",
       "    </tr>\n",
       "  </thead>\n",
       "  <tbody>\n",
       "    <tr>\n",
       "      <th>0</th>\n",
       "      <td>SBER.MOS</td>\n",
       "      <td>Sberbank of Russia</td>\n",
       "      <td>Equity</td>\n",
       "      <td>Moscow</td>\n",
       "      <td>10:00</td>\n",
       "      <td>18:45</td>\n",
       "      <td>UTC+03</td>\n",
       "      <td>RUB</td>\n",
       "      <td>1.0000</td>\n",
       "    </tr>\n",
       "  </tbody>\n",
       "</table>\n",
       "</div>"
      ],
      "text/plain": [
       "  1. symbol             2. name 3. type 4. region 5. marketOpen  \\\n",
       "0  SBER.MOS  Sberbank of Russia  Equity    Moscow         10:00   \n",
       "\n",
       "  6. marketClose 7. timezone 8. currency 9. matchScore  \n",
       "0          18:45      UTC+03         RUB        1.0000  "
      ]
     },
     "execution_count": 3,
     "metadata": {},
     "output_type": "execute_result"
    }
   ],
   "source": [
    "sym = 'SBER.MOS'\n",
    "http = urllib3.PoolManager()\n",
    "r = http.request('GET',\n",
    "                 'https://www.alphavantage.co/query?function=SYMBOL_SEARCH&keywords=' + sym + '&apikey=' + API_KEY)\n",
    "df = pd.DataFrame.from_dict(json.loads(r.data)['bestMatches'])\n",
    "df"
   ]
  },
  {
   "cell_type": "code",
   "execution_count": 4,
   "metadata": {},
   "outputs": [],
   "source": [
    "sym = df.iloc[0, 0]\n",
    "http = urllib3.PoolManager()\n",
    "r = http.request('GET', 'https://www.alphavantage.co/query?function=TIME_SERIES_MONTHLY&symbol=' + sym +\n",
    "                 '&outputsize=full&apikey=' + API_KEY)"
   ]
  },
  {
   "cell_type": "code",
   "execution_count": 5,
   "metadata": {},
   "outputs": [],
   "source": [
    "data = pd.DataFrame.from_dict(json.loads(r.data)['Monthly Time Series'], orient='index', dtype=float)\n",
    "data.rename(lambda x: x.split('. ')[1], axis='columns', inplace=True)"
   ]
  },
  {
   "cell_type": "code",
   "execution_count": 6,
   "metadata": {},
   "outputs": [
    {
     "data": {
      "image/png": "[encoded data removed]",
      "text/plain": [
       "<Figure size 1080x504 with 1 Axes>"
      ]
     },
     "metadata": {
      "needs_background": "light"
     },
     "output_type": "display_data"
    }
   ],
   "source": [
    "start, end = 0, data.shape[0]\n",
    "\n",
    "fig = plt.figure(figsize=(15, 7))\n",
    "\n",
    "for i in range(start, end):\n",
    "    draw_candle(data[i:i+1])"
   ]
  },
  {
   "cell_type": "code",
   "execution_count": 7,
   "metadata": {},
   "outputs": [],
   "source": [
    "data['lead'] = 0\n",
    "data['lead'][1:] = data.close[:-1]\n",
    "x = (data.close[1:] - data.lead[1:]) / data.lead[1:] * 100"
   ]
  },
  {
   "cell_type": "code",
   "execution_count": 8,
   "metadata": {},
   "outputs": [
    {
     "name": "stdout",
     "output_type": "stream",
     "text": [
      "Mean: 1.5736599622574243\n",
      "Std: 8.622265247027293\n"
     ]
    }
   ],
   "source": [
    "print('Mean: {}'.format(x.mean()))\n",
    "print('Std: {}'.format(x.std()))"
   ]
  },
  {
   "cell_type": "code",
   "execution_count": 9,
   "metadata": {},
   "outputs": [
    {
     "data": {
      "text/plain": [
       "2012-01-31    1.573163\n",
       "2012-02-29    1.237347\n",
       "2012-03-30   -0.540436\n",
       "2012-04-27   -0.165788\n",
       "2012-05-31   -1.518682\n",
       "2012-06-29    0.697296\n",
       "2012-07-31    0.447002\n",
       "2012-08-31    0.448508\n",
       "2012-09-28   -0.275014\n",
       "2012-10-31    0.101971\n",
       "2012-11-30   -0.048014\n",
       "2012-12-28    0.194123\n",
       "2013-01-31    2.077735\n",
       "2013-02-28   -0.531265\n",
       "2013-03-29   -0.633297\n",
       "2013-04-30    0.029329\n",
       "2013-05-31   -0.007021\n",
       "2013-06-28   -0.628780\n",
       "2013-07-31    0.191895\n",
       "2013-08-30   -0.852517\n",
       "2013-09-30    1.244837\n",
       "2013-10-31    0.605416\n",
       "2013-11-29    0.053025\n",
       "2013-12-30   -0.249320\n",
       "2014-01-31   -0.717335\n",
       "2014-02-28   -0.452660\n",
       "2014-03-31   -0.929358\n",
       "2014-04-30   -1.563915\n",
       "2014-05-30    1.919649\n",
       "2014-06-30    0.000000\n",
       "                ...   \n",
       "2017-07-31    1.508784\n",
       "2017-08-31    1.337919\n",
       "2017-09-29    0.557426\n",
       "2017-10-31    0.088644\n",
       "2017-11-30    1.828252\n",
       "2017-12-29    0.043941\n",
       "2018-01-31    2.023964\n",
       "2018-02-28    0.346402\n",
       "2018-03-30   -0.801718\n",
       "2018-04-30   -1.215726\n",
       "2018-05-31   -0.236566\n",
       "2018-06-29   -0.227409\n",
       "2018-07-31   -0.167052\n",
       "2018-08-31   -1.773743\n",
       "2018-09-28    1.358609\n",
       "2018-10-31   -0.771215\n",
       "2018-11-30    0.256644\n",
       "2018-12-28   -0.448372\n",
       "2019-01-31    1.952673\n",
       "2019-02-28   -0.537580\n",
       "2019-03-29    0.397386\n",
       "2019-04-30    0.553128\n",
       "2019-05-31    0.415663\n",
       "2019-06-28    0.264040\n",
       "2019-07-31   -0.246008\n",
       "2019-08-30   -0.461451\n",
       "2019-09-30    0.181573\n",
       "2019-10-31    0.365697\n",
       "2019-11-29   -0.044932\n",
       "2019-12-27    0.896186\n",
       "Length: 96, dtype: float64"
      ]
     },
     "execution_count": 9,
     "metadata": {},
     "output_type": "execute_result"
    }
   ],
   "source": [
    "x / x.std()"
   ]
  },
  {
   "cell_type": "code",
   "execution_count": 19,
   "metadata": {},
   "outputs": [
    {
     "data": {
      "text/plain": [
       "<matplotlib.axes._subplots.AxesSubplot at 0x7ffaadadc208>"
      ]
     },
     "execution_count": 19,
     "metadata": {},
     "output_type": "execute_result"
    },
    {
     "data": {
      "image/png": "[encoded data removed]",
      "text/plain": [
       "<Figure size 576x396 with 1 Axes>"
      ]
     },
     "metadata": {},
     "output_type": "display_data"
    }
   ],
   "source": [
    "x.hist(bins=20)"
   ]
  },
  {
   "cell_type": "code",
   "execution_count": 18,
   "metadata": {},
   "outputs": [
    {
     "data": {
      "text/plain": [
       "(-15.543700771070045, 18.691020695584893)"
      ]
     },
     "execution_count": 18,
     "metadata": {},
     "output_type": "execute_result"
    }
   ],
   "source": [
    "stats.t.interval(0.95, len(x)-1, loc=x.mean(), scale=x.std())"
   ]
  },
  {
   "cell_type": "code",
   "execution_count": 80,
   "metadata": {},
   "outputs": [
    {
     "data": {
      "text/plain": [
       "(-0.4115910411525019, 3.5589109656673505)"
      ]
     },
     "execution_count": 80,
     "metadata": {},
     "output_type": "execute_result"
    }
   ],
   "source": [
    "stats.t.interval(0.95, len(x)-1, loc=x.mean())"
   ]
  },
  {
   "cell_type": "code",
   "execution_count": 81,
   "metadata": {},
   "outputs": [
    {
     "data": {
      "text/plain": [
       "18.691020695584893"
      ]
     },
     "execution_count": 81,
     "metadata": {},
     "output_type": "execute_result"
    }
   ],
   "source": [
    "stats.t.ppf(0.975, len(x)-1, loc=x.mean(), scale=x.std())"
   ]
  },
  {
   "cell_type": "code",
   "execution_count": 82,
   "metadata": {},
   "outputs": [
    {
     "data": {
      "text/plain": [
       "0.182511198295596"
      ]
     },
     "execution_count": 82,
     "metadata": {},
     "output_type": "execute_result"
    }
   ],
   "source": [
    "x.mean() / x.std()"
   ]
  },
  {
   "cell_type": "code",
   "execution_count": 15,
   "metadata": {},
   "outputs": [
    {
     "data": {
      "text/plain": [
       "18.691020695584893"
      ]
     },
     "execution_count": 15,
     "metadata": {},
     "output_type": "execute_result"
    }
   ],
   "source": [
    "x.mean() + stats.t.ppf(0.975, df=len(x)-1) * x.std()"
   ]
  },
  {
   "cell_type": "code",
   "execution_count": 16,
   "metadata": {},
   "outputs": [
    {
     "data": {
      "text/plain": [
       "-15.543700771070048"
      ]
     },
     "execution_count": 16,
     "metadata": {},
     "output_type": "execute_result"
    }
   ],
   "source": [
    "x.mean() + stats.t.ppf(0.025, df=len(x)-1) * x.std()"
   ]
  },
  {
   "cell_type": "code",
   "execution_count": null,
   "metadata": {},
   "outputs": [],
   "source": []
  }
 ],
 "metadata": {
  "kernelspec": {
   "display_name": "Python 3",
   "language": "python",
   "name": "python3"
  },
  "language_info": {
   "codemirror_mode": {
    "name": "ipython",
    "version": 3
   },
   "file_extension": ".py",
   "mimetype": "text/x-python",
   "name": "python",
   "nbconvert_exporter": "python",
   "pygments_lexer": "ipython3",
   "version": "3.7.1"
  }
 },
 "nbformat": 4,
 "nbformat_minor": 2
}
